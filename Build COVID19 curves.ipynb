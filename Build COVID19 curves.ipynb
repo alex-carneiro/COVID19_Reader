{
 "cells": [
  {
   "cell_type": "code",
   "execution_count": null,
   "metadata": {},
   "outputs": [],
   "source": [
    "from covid19 import Reader\n",
    "\n",
    "import matplotlib.pyplot as plt\n",
    "%matplotlib inline"
   ]
  },
  {
   "cell_type": "code",
   "execution_count": null,
   "metadata": {},
   "outputs": [],
   "source": [
    "country = \"United States\"\n",
    "\n",
    "fix_country_name = lambda name: name.lower().replace(' ', '-')\n",
    "data = Reader(fix_country_name(country))"
   ]
  },
  {
   "cell_type": "code",
   "execution_count": null,
   "metadata": {},
   "outputs": [],
   "source": [
    "dates = data.get_dates()\n",
    "confirmed_cases = data.get_confirmed()\n",
    "recovered_cases = data.get_recovered()\n",
    "death_cases = data.get_deaths()\n",
    "lethality = death_cases / confirmed_cases"
   ]
  },
  {
   "cell_type": "code",
   "execution_count": null,
   "metadata": {
    "scrolled": true
   },
   "outputs": [],
   "source": [
    "plt.figure(figsize=(18,4))\n",
    "plt.title(f\"Cumulative total of confirmed cases in {country}\")\n",
    "plt.ylabel(\"# people\")\n",
    "plt.xlabel(\"Days\")\n",
    "plt.grid()\n",
    "plt.xticks(rotation=90)\n",
    "plt.plot(dates, confirmed_cases);"
   ]
  },
  {
   "cell_type": "code",
   "execution_count": null,
   "metadata": {},
   "outputs": [],
   "source": [
    "plt.figure(figsize=(18,4))\n",
    "plt.title(f\"Cumulative total of recovered cases in {country}\")\n",
    "plt.ylabel(\"# people\")\n",
    "plt.xlabel(\"Days\")\n",
    "plt.grid()\n",
    "plt.xticks(rotation=90)\n",
    "plt.plot(dates, recovered_cases);"
   ]
  },
  {
   "cell_type": "code",
   "execution_count": null,
   "metadata": {},
   "outputs": [],
   "source": [
    "plt.figure(figsize=(18,4))\n",
    "plt.title(f\"Cumulative total of deaths in {country}\")\n",
    "plt.ylabel(\"# people\")\n",
    "plt.xlabel(\"Days\")\n",
    "plt.grid()\n",
    "plt.xticks(rotation=90)\n",
    "plt.plot(dates, death_cases);"
   ]
  },
  {
   "cell_type": "code",
   "execution_count": null,
   "metadata": {},
   "outputs": [],
   "source": [
    "plt.figure(figsize=(18,4))\n",
    "plt.title(f\"COVID19 lethality in {country}\")\n",
    "plt.ylabel(\"lethality rate\")\n",
    "plt.xlabel(\"Days\")\n",
    "plt.grid()\n",
    "plt.xticks(rotation=90)\n",
    "plt.plot(dates, lethality);"
   ]
  },
  {
   "cell_type": "code",
   "execution_count": null,
   "metadata": {},
   "outputs": [],
   "source": []
  }
 ],
 "metadata": {
  "kernelspec": {
   "display_name": "Python 3",
   "language": "python",
   "name": "python3"
  },
  "language_info": {
   "codemirror_mode": {
    "name": "ipython",
    "version": 3
   },
   "file_extension": ".py",
   "mimetype": "text/x-python",
   "name": "python",
   "nbconvert_exporter": "python",
   "pygments_lexer": "ipython3",
   "version": "3.6.8"
  }
 },
 "nbformat": 4,
 "nbformat_minor": 2
}
